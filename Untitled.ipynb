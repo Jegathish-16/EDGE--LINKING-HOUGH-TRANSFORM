{
 "cells": [
  {
   "cell_type": "code",
   "execution_count": 3,
   "id": "d4dd3d46",
   "metadata": {},
   "outputs": [],
   "source": [
    "# Read image and convert it to grayscale image\n",
    "import cv2\n",
    "import numpy as np\n",
    "r=cv2.imread('piece.jpg',-1)\n",
    "gray=cv2.cvtColor(r,cv2.COLOR_BGR2GRAY)\n",
    "img = cv2.GaussianBlur(gray,(3,3),0)\n",
    "cv2.imshow('origianl',r)\n",
    "cv2.waitKey(0)\n",
    "cv2.destroyAllWindows()\n",
    "cv2.imshow('gray',gray)\n",
    "cv2.waitKey(0)\n",
    "cv2.destroyAllWindows()\n"
   ]
  },
  {
   "cell_type": "code",
   "execution_count": 4,
   "id": "4b56c685",
   "metadata": {},
   "outputs": [],
   "source": [
    "canny_edges = cv2.Canny(img, 50, 120)\n",
    "cv2.imshow('canny',canny_edges)\n",
    "cv2.waitKey(0)\n",
    "cv2.destroyAllWindows()\n"
   ]
  },
  {
   "cell_type": "code",
   "execution_count": 5,
   "id": "e2cb98c7",
   "metadata": {},
   "outputs": [],
   "source": [
    "# Detect points that form a line using HoughLinesP\n",
    "lines =cv2.HoughLinesP(canny_edges, 1, np.pi/180,threshold = 15, minLineLength =5 ,\n",
    "maxLineGap = 7)\n",
    "# Draw lines on the image\n",
    "for line in lines:\n",
    " x1,y1,x2,y2 = line[0]\n",
    " cv2.line(r, (x1,y1),(x2,y2),(255,0,0),3)\n",
    "# Display the result\n",
    "cv2.imshow('hough_detected',r)\n",
    "cv2.waitKey(0)\n",
    "cv2.destroyAllWindows()"
   ]
  },
  {
   "cell_type": "code",
   "execution_count": null,
   "id": "bbd2add2",
   "metadata": {},
   "outputs": [],
   "source": []
  }
 ],
 "metadata": {
  "kernelspec": {
   "display_name": "Python 3",
   "language": "python",
   "name": "python3"
  },
  "language_info": {
   "codemirror_mode": {
    "name": "ipython",
    "version": 3
   },
   "file_extension": ".py",
   "mimetype": "text/x-python",
   "name": "python",
   "nbconvert_exporter": "python",
   "pygments_lexer": "ipython3",
   "version": "3.8.8"
  }
 },
 "nbformat": 4,
 "nbformat_minor": 5
}
